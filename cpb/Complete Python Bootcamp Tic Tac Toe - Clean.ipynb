{
 "cells": [
  {
   "cell_type": "code",
   "execution_count": 2,
   "metadata": {},
   "outputs": [],
   "source": [
    "from IPython.display import clear_output\n",
    "\n",
    "def display_board(board):\n",
    "    '''\n",
    "    Clears output and displays the current playing board.\n",
    "    '''\n",
    "    bar_line = '__|___|___|___|'\n",
    "    clear_line = '  |   |   |   |'\n",
    "    \n",
    "    clear_output(wait=False)\n",
    "    print('  | a | b | c |')\n",
    "    print(bar_line)\n",
    "    print(clear_line)\n",
    "    print('1 | {a} | {b} | {c} |'.format(a=board['1a'],b=board['1b'],c=board['1c']))\n",
    "    print(bar_line)\n",
    "    print(clear_line)\n",
    "    print('2 | {a} | {b} | {c} |'.format(a=board['2a'],b=board['2b'],c=board['2c']))\n",
    "    print(bar_line)\n",
    "    print(clear_line)\n",
    "    print('3 | {a} | {b} | {c} |'.format(a=board['3a'],b=board['3b'],c=board['3c']))\n",
    "    print(bar_line)\n"
   ]
  },
  {
   "cell_type": "code",
   "execution_count": 3,
   "metadata": {},
   "outputs": [],
   "source": [
    "def board_reset():\n",
    "    '''\n",
    "    Resets to a blank board.\n",
    "    '''\n",
    "    global board\n",
    "    board = {'1a':' ', '1b':' ', '1c':' ',\n",
    "             '2a':' ', '2b':' ', '2c':' ',\n",
    "             '3a':' ', '3b':' ', '3c':' '\n",
    "            }\n",
    "    "
   ]
  },
  {
   "cell_type": "code",
   "execution_count": 4,
   "metadata": {},
   "outputs": [],
   "source": [
    "def board_input(player):\n",
    "    '''\n",
    "    Gets player input and updates board.\n",
    "    '''\n",
    "    global board\n",
    "    selection = input('Player {}: Make a selection: '.format(player))\n",
    "    #validate\n",
    "    while selection.lower() not in board.keys() or board[selection] == 'X' or board[selection] == 'O':\n",
    "        selection = input('Make a valid selection: ')\n",
    "    else: \n",
    "        board[selection] = player"
   ]
  },
  {
   "cell_type": "code",
   "execution_count": 6,
   "metadata": {},
   "outputs": [],
   "source": [
    "def check_win(board,player):\n",
    "    '''\n",
    "    Checks current board and most recent player against possible win conditions.\n",
    "    '''\n",
    "    poss_wins = [('1a','1b','1c'),('2a','2b','2c'),('3a','3b','3c'),\n",
    "                 ('1a','2a','3a'),('1b','2b','3b'),('1c','2c','3c'),\n",
    "                 ('1a','2b','3c'),('1c','2b','3a')\n",
    "                ]\n",
    "    for i in range(len(poss_wins)):\n",
    "        if board[poss_wins[i][0]] == player and board[poss_wins[i][1]] == player and board[poss_wins[i][2]] == player:\n",
    "            return True\n",
    "    \n",
    "    return False\n",
    "    "
   ]
  },
  {
   "cell_type": "code",
   "execution_count": 7,
   "metadata": {},
   "outputs": [],
   "source": [
    "def play_again():\n",
    "    play = input('Play again? ')\n",
    "    if play[0].lower() == 'y':\n",
    "        return True\n",
    "    else:\n",
    "        return False"
   ]
  },
  {
   "cell_type": "code",
   "execution_count": 16,
   "metadata": {},
   "outputs": [],
   "source": [
    "def play_game():\n",
    "    '''\n",
    "    Tic-Tac-Toe play function.\n",
    "    '''\n",
    "    print('Welcome to Tic-Tac-Toe!\\nMove selections are entered as \\'1a\\',\\'2b\\',\\'3c\\', etc.')\n",
    "    #setup\n",
    "    player = ''\n",
    "    ready = False\n",
    "    #ready??\n",
    "    are_you_ready = input('Are you ready to play? ')\n",
    "    if are_you_ready[0].lower() == 'y' or are_you_ready.lower() == 'ready':\n",
    "        ready = True\n",
    "    while ready == True:\n",
    "        #pick a player\n",
    "        while not player == 'X' and not player == 'O':\n",
    "            player = input('Who\\'s going first? enter \\'X\\' or \\'O\\'. ').upper()\n",
    "        board_reset()\n",
    "        moves = 0\n",
    "        #the game\n",
    "        while moves < 9:\n",
    "            display_board(board)\n",
    "            board_input(player)\n",
    "            moves += 1\n",
    "            #check for winner or draw\n",
    "            if check_win(board,player):\n",
    "                display_board(board)\n",
    "                print('Player {} wins!'.format(player))\n",
    "                break\n",
    "            elif moves >= 9 and not check_win(board,'X') and not check_win(board,'O'):\n",
    "                display_board(board)\n",
    "                print('Game is a draw, no winner.')\n",
    "            #switch player\n",
    "            if player == 'X':\n",
    "                player = 'O'\n",
    "            elif player == 'O':\n",
    "                player = 'X'\n",
    "\n",
    "        player = ''\n",
    "        again = play_again()\n",
    "\n",
    "        if not again:        \n",
    "            ready = False\n",
    "        \n",
    "    \n",
    "    print('Thanks for playing, re-run cell to play!')\n"
   ]
  },
  {
   "cell_type": "code",
   "execution_count": 15,
   "metadata": {},
   "outputs": [
    {
     "name": "stdout",
     "output_type": "stream",
     "text": [
      "  | a | b | c |\n",
      "__|___|___|___|\n",
      "  |   |   |   |\n",
      "1 | O | X | O |\n",
      "__|___|___|___|\n",
      "  |   |   |   |\n",
      "2 | X | X | O |\n",
      "__|___|___|___|\n",
      "  |   |   |   |\n",
      "3 | X | O |   |\n",
      "__|___|___|___|\n",
      "Player X: Make a selection: 3c\n",
      "Game is a draw, no winner.\n",
      "Play again? n\n",
      "Thanks for playing, re-run cell to play!\n"
     ]
    }
   ],
   "source": [
    "play_game()"
   ]
  },
  {
   "cell_type": "code",
   "execution_count": null,
   "metadata": {},
   "outputs": [],
   "source": []
  }
 ],
 "metadata": {
  "kernelspec": {
   "display_name": "Python 3",
   "language": "python",
   "name": "python3"
  },
  "language_info": {
   "codemirror_mode": {
    "name": "ipython",
    "version": 3
   },
   "file_extension": ".py",
   "mimetype": "text/x-python",
   "name": "python",
   "nbconvert_exporter": "python",
   "pygments_lexer": "ipython3",
   "version": "3.7.4"
  }
 },
 "nbformat": 4,
 "nbformat_minor": 2
}
